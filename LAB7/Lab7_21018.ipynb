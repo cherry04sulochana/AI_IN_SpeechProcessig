{
  "nbformat": 4,
  "nbformat_minor": 0,
  "metadata": {
    "colab": {
      "provenance": []
    },
    "kernelspec": {
      "name": "python3",
      "display_name": "Python 3"
    },
    "language_info": {
      "name": "python"
    }
  },
  "cells": [
    {
      "cell_type": "code",
      "execution_count": 1,
      "metadata": {
        "colab": {
          "base_uri": "https://localhost:8080/"
        },
        "id": "nfompw5A5xJq",
        "outputId": "8580ddf2-d908-4789-d154-526641ffb8ce"
      },
      "outputs": [
        {
          "output_type": "stream",
          "name": "stdout",
          "text": [
            "Requirement already satisfied: hmmlearn in /usr/local/lib/python3.10/dist-packages (0.3.2)\n",
            "Requirement already satisfied: numpy>=1.10 in /usr/local/lib/python3.10/dist-packages (from hmmlearn) (1.25.2)\n",
            "Requirement already satisfied: scikit-learn!=0.22.0,>=0.16 in /usr/local/lib/python3.10/dist-packages (from hmmlearn) (1.2.2)\n",
            "Requirement already satisfied: scipy>=0.19 in /usr/local/lib/python3.10/dist-packages (from hmmlearn) (1.11.4)\n",
            "Requirement already satisfied: joblib>=1.1.1 in /usr/local/lib/python3.10/dist-packages (from scikit-learn!=0.22.0,>=0.16->hmmlearn) (1.3.2)\n",
            "Requirement already satisfied: threadpoolctl>=2.0.0 in /usr/local/lib/python3.10/dist-packages (from scikit-learn!=0.22.0,>=0.16->hmmlearn) (3.4.0)\n"
          ]
        }
      ],
      "source": [
        "pip install hmmlearn"
      ]
    },
    {
      "cell_type": "code",
      "source": [
        "# Importing Libraries\n",
        "import numpy as np\n",
        "import librosa\n",
        "from hmmlearn import hmm"
      ],
      "metadata": {
        "id": "cKpZOtp89J2s"
      },
      "execution_count": 2,
      "outputs": []
    },
    {
      "cell_type": "markdown",
      "source": [
        "***A1. Use HMM for classification of your speech signal using STFT features.***"
      ],
      "metadata": {
        "id": "HvUFaoXE6DQ6"
      }
    },
    {
      "cell_type": "code",
      "source": [
        "# Function to extract STFT features from audio file\n",
        "def extract_features(audio_file, n_mfcc=13, hop_length=512):\n",
        "    # Load audio file\n",
        "    y, sr = librosa.load(audio_file)\n",
        "\n",
        "    # Extract STFT features\n",
        "    stft = np.abs(librosa.stft(y, hop_length=hop_length))\n",
        "    mfccs = librosa.feature.mfcc(y=y, sr=sr, n_mfcc=n_mfcc, hop_length=hop_length)\n",
        "\n",
        "    # Concatenate STFT and MFCC features\n",
        "    features = np.vstack((stft, mfccs))\n",
        "\n",
        "    return features.T\n"
      ],
      "metadata": {
        "id": "eGdtr-KS9O8K"
      },
      "execution_count": 3,
      "outputs": []
    },
    {
      "cell_type": "code",
      "source": [
        "# Function to train HMM model\n",
        "def train_hmm(features, n_components=3, n_iter=100):\n",
        "    model = hmm.GaussianHMM(n_components=n_components, covariance_type=\"diag\", n_iter=n_iter)\n",
        "    model.fit(features)\n",
        "    return model\n",
        ""
      ],
      "metadata": {
        "id": "fJspC2C39O_E"
      },
      "execution_count": 4,
      "outputs": []
    },
    {
      "cell_type": "code",
      "source": [
        "# Function to classify speech using trained HMM model\n",
        "def classify_speech(audio_file, model):\n",
        "    features = extract_features(audio_file)\n",
        "    log_likelihood = model.score(features)\n",
        "    return log_likelihood\n"
      ],
      "metadata": {
        "id": "3nPfb9yq9PCB"
      },
      "execution_count": 5,
      "outputs": []
    },
    {
      "cell_type": "code",
      "source": [
        "# Example of training\n",
        "train_file = \"cherry.wav\"  # Path to training audio file\n",
        "print(\"Training HMM model...\")\n",
        "train_features = extract_features(train_file)\n",
        "hmm_model = train_hmm(train_features)\n",
        "print(\"HMM model trained successfully.\")"
      ],
      "metadata": {
        "colab": {
          "base_uri": "https://localhost:8080/"
        },
        "id": "lCNfR8X49PFh",
        "outputId": "0727b81c-80fd-4294-b2c5-fec5b2ed156a"
      },
      "execution_count": 6,
      "outputs": [
        {
          "output_type": "stream",
          "name": "stdout",
          "text": [
            "Training HMM model...\n",
            "HMM model trained successfully.\n"
          ]
        }
      ]
    },
    {
      "cell_type": "code",
      "source": [
        "# Example of classification\n",
        "test_file = \"testfile.wav\"  # Path to /test audio file\n",
        "print(\"Classifying test file...\")\n",
        "likelihood = classify_speech(test_file, hmm_model)\n",
        "print(\"Log Likelihood for test data:\", likelihood)"
      ],
      "metadata": {
        "colab": {
          "base_uri": "https://localhost:8080/"
        },
        "id": "P9cpor1Z5_EI",
        "outputId": "b2cfa2b5-0b45-4857-81b7-78ed853fdbee"
      },
      "execution_count": 12,
      "outputs": [
        {
          "output_type": "stream",
          "name": "stdout",
          "text": [
            "Classifying test file...\n",
            "Log Likelihood for test data: -539029.4016167669\n"
          ]
        }
      ]
    },
    {
      "cell_type": "code",
      "source": [
        "# Example of predicting labels for test data\n",
        "print(\"Predicting labels for new data...\")\n",
        "new_likelihood = classify_speech(test_file, hmm_model)\n",
        "print(\"Predicted labels for new data:\", hmm_model.predict(extract_features(test_file)))"
      ],
      "metadata": {
        "colab": {
          "base_uri": "https://localhost:8080/"
        },
        "id": "_M1VNHvg5_HN",
        "outputId": "9932b1ba-7dd4-4658-df8e-ce247fdab400"
      },
      "execution_count": 15,
      "outputs": [
        {
          "output_type": "stream",
          "name": "stdout",
          "text": [
            "Predicting labels for new data...\n",
            "Predicted labels for new data: [1 0 0 0 0 0 0 0 0 0 0 0 0 0 0 0 0 0 0 0 0 0 2 2 2 2 2 2 2 2 2 2 2 2 2 2 2\n",
            " 2 2 2 2 2 2 2 2 2 2 2 2 2 2 2 2 2 2 0 0 0 0 0 0 2 2 2 2 2 2 0 2 2 2 2 2 2\n",
            " 2 2 2 2 2 2 2 2 2 2 2 2 2 2 2 2 2 2 2 2 2 2 2 2 2 2 2 2 2 2 2 2 2 2 2 2 2\n",
            " 2 2 2 2 2 2 2 2 2 2 2 2 0 0 0 0 0 0 0 0 0 0 0 0 0 0 0 0 0 0 0 0 0 2 2 2 2\n",
            " 2 2 0 0 0 0 0 0 0 2 0 0 0 0 0 2 0 2 2 2 2 2 2 2 2 2 2 2 2 2 2 0 0 0 0 0 0\n",
            " 0 0 0 0 0 0 0 0 0 0 0 0 0 2 0 0 0 0 0 0 0 0 2 2 2 2 2 0 0 0 0 0 0 0 0 0 0\n",
            " 0 0 0 0 0 0 0 0 0 0 0 0 0 0 0 0 0 0 0 0 0 0 0 0 0 0 0 0 0 0 0 0 0 0 0 0 0\n",
            " 0 0 0 0 0 0 0 0 2 2 0 0 0 0 0 0 0 0 0 0 0 0 0 0 0 0 0]\n"
          ]
        }
      ]
    },
    {
      "cell_type": "code",
      "source": [],
      "metadata": {
        "id": "8NB46mEO5_JV"
      },
      "execution_count": null,
      "outputs": []
    }
  ]
}